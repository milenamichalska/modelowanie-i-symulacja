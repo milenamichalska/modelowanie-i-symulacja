{
  "nbformat": 4,
  "nbformat_minor": 0,
  "metadata": {
    "colab": {
      "name": "rocket-flight-sim.ipynb",
      "provenance": [],
      "toc_visible": true,
      "authorship_tag": "ABX9TyMVipha9Molafv5HpcTTzl6",
      "include_colab_link": true
    },
    "kernelspec": {
      "name": "python3",
      "display_name": "Python 3"
    },
    "language_info": {
      "name": "python"
    }
  },
  "cells": [
    {
      "cell_type": "markdown",
      "metadata": {
        "id": "view-in-github",
        "colab_type": "text"
      },
      "source": [
        "<a href=\"https://colab.research.google.com/github/milenamichalska/modelowanie-i-symulacja/blob/main/rocket_flight_sim.ipynb\" target=\"_parent\"><img src=\"https://colab.research.google.com/assets/colab-badge.svg\" alt=\"Open In Colab\"/></a>"
      ]
    },
    {
      "cell_type": "markdown",
      "metadata": {
        "id": "t0Qj8Y2asUjI"
      },
      "source": [
        "<h1> Symulator parametrów lotu rakiety modelarskiej</h1>\n",
        "\n",
        "Program który własnie widzisz to **uproszczony symulator parametrów lotu dla rakiety** (modelarskiej, jest zbyt niedokładny by wyliczać nim duże rakiety). \n",
        "\n",
        "Napisany jako zadanie domowe na przedmiot Modelowanie i symulacja systemów, postanowiłam przerobić go na interaktywną formę Jupyter Notebook i dokładniej opisać jego działanie.\n",
        "\n",
        "Korzystałam z objaśnień ze strony http://www.rocketmime.com/rockets/rckt_sim.html\n",
        "\n",
        "Skrypt z wizualizacją w czasie rzeczywistym: https://github.com/milenamichalska/modelowanie-i-symulacja/blob/main/rocket_flight_simulation.py\n",
        "\n",
        "[Instrukcja obsługi narzędzia Google Colab](https://colab.research.google.com/notebooks/intro.ipynb).\n",
        "\n"
      ]
    },
    {
      "cell_type": "markdown",
      "metadata": {
        "id": "1KGp8kN84MYG"
      },
      "source": [
        "## Import bibliotek\n",
        "Program jest napisany w języku Python. Importuję biblioteki do operacji matematycznych i rysowania wykresów."
      ]
    },
    {
      "cell_type": "code",
      "metadata": {
        "id": "OhMgGmu1y2pn"
      },
      "source": [
        "import numpy as np\n",
        "import matplotlib.pyplot as plt"
      ],
      "execution_count": 1,
      "outputs": []
    },
    {
      "cell_type": "markdown",
      "metadata": {
        "id": "JbwAUgEHy4kc"
      },
      "source": [
        "## Parametry wejściowe\n"
      ]
    },
    {
      "cell_type": "markdown",
      "metadata": {
        "id": "wnfBL6cczwag"
      },
      "source": [
        "### Parametry symulacji\n",
        "Czas i krok dla symulacji"
      ]
    },
    {
      "cell_type": "code",
      "metadata": {
        "id": "3Xk-8X9CzJh3"
      },
      "source": [
        "time_interval = 0.1 #interwal dla kalkulacji w sekundach\n",
        "time = 100.0 #czas symulacji"
      ],
      "execution_count": 2,
      "outputs": []
    },
    {
      "cell_type": "markdown",
      "metadata": {
        "id": "J9JGqTbnzMxJ"
      },
      "source": [
        "### Parametry lotu\n",
        "Wartości poniższych zmiennych możesz uzupełnić wartościami właściwymi dla Twojej rakiety."
      ]
    },
    {
      "cell_type": "markdown",
      "metadata": {
        "id": "hhPjXTz5zyqH"
      },
      "source": [
        "#### Parametry rakiety\n"
      ]
    },
    {
      "cell_type": "markdown",
      "metadata": {
        "id": "FxczSIoS4VPX"
      },
      "source": [
        "- Masa rakiety bez silnika"
      ]
    },
    {
      "cell_type": "code",
      "metadata": {
        "id": "p_ZkIUNDzob_"
      },
      "source": [
        "empty_rocket_mass = 0.1 #kg"
      ],
      "execution_count": 3,
      "outputs": []
    },
    {
      "cell_type": "markdown",
      "metadata": {
        "id": "9N5SZnYl4R23"
      },
      "source": [
        "- Współczynnik oporu powietrza\n",
        "\n",
        "Jego wyznaczenie jest skomplikowane i wymaga danych zebranych podczas lotów testowych, procedura została obszernie opisana w [dokumencie od Apogee Rockets](https://www.apogeerockets.com/education/downloads/Newsletter303.pdf). Przyjęłam średnią warość 0.75"
      ]
    },
    {
      "cell_type": "code",
      "metadata": {
        "id": "i34lbaDF5RrA"
      },
      "source": [
        "drag_coefficent = 0.75"
      ],
      "execution_count": 4,
      "outputs": []
    },
    {
      "cell_type": "markdown",
      "metadata": {
        "id": "tirftDhl7Cp4"
      },
      "source": [
        "- Średnica rakiety i spadochronu\n",
        "\n",
        "Aby wyliczyć optymalne wymiary spadochronu można skorzystac z [kalkulatora z forum Polskiego Towarzystwa Rakietowego](http://rakiety.org.pl/forum/viewtopic.php?f=8&t=3263)."
      ]
    },
    {
      "cell_type": "code",
      "metadata": {
        "id": "dH11wMLF7HNv"
      },
      "source": [
        "rocket_diameter = 0.1 #m\n",
        "parachute_diameter = 0.6 #m"
      ],
      "execution_count": 5,
      "outputs": []
    },
    {
      "cell_type": "markdown",
      "metadata": {
        "id": "Jt0dMxUw2tdx"
      },
      "source": [
        "#### Parametry silnika\n"
      ]
    },
    {
      "cell_type": "markdown",
      "metadata": {
        "id": "DWAwV4yX8g3p"
      },
      "source": [
        "Przykładowe dane dla silnika Klima C6-3\n",
        "- Masa silnika bez paliwa"
      ]
    },
    {
      "cell_type": "code",
      "metadata": {
        "id": "m86v7Sdb5f0_"
      },
      "source": [
        "motor_mass = 0.004 #kg"
      ],
      "execution_count": 6,
      "outputs": []
    },
    {
      "cell_type": "markdown",
      "metadata": {
        "id": "GNX2jgi85xH3"
      },
      "source": [
        "- Masa paliwa"
      ]
    },
    {
      "cell_type": "code",
      "metadata": {
        "id": "URUr5nga50y_"
      },
      "source": [
        "propellant_mass = 0.01 #kg"
      ],
      "execution_count": 7,
      "outputs": []
    },
    {
      "cell_type": "markdown",
      "metadata": {
        "id": "qsyuPslb6ga_"
      },
      "source": [
        "- Ciąg i impuls całkowity silnika"
      ]
    },
    {
      "cell_type": "code",
      "metadata": {
        "id": "QqjkTzp46p4l"
      },
      "source": [
        "motor_impulse = 10.0 #Ns\n",
        "motor_thrust = 6.0 #N"
      ],
      "execution_count": 8,
      "outputs": []
    },
    {
      "cell_type": "markdown",
      "metadata": {
        "id": "0XmFrCCM6vB_"
      },
      "source": [
        "- Opóźnienie, po jakim zostanie odpalony ładunek miotający w celu wypchnięcia spadochronu"
      ]
    },
    {
      "cell_type": "code",
      "metadata": {
        "id": "OW80iGLe69KH"
      },
      "source": [
        "parachute_deployment_delay = 3 #s"
      ],
      "execution_count": 9,
      "outputs": []
    },
    {
      "cell_type": "markdown",
      "metadata": {
        "id": "dYGAbp3M8o5f"
      },
      "source": [
        "## Wyliczenia i zmienne początkowe"
      ]
    },
    {
      "cell_type": "markdown",
      "metadata": {
        "id": "AkYCMMoC8u32"
      },
      "source": [
        "- Czas spalania i ubytek masy w ciągu jednej sekundy"
      ]
    },
    {
      "cell_type": "code",
      "metadata": {
        "id": "-N2mYoIv9YJW"
      },
      "source": [
        "burn_time = float(motor_impulse / motor_thrust)\n",
        "mass_decrement = propellant_mass / burn_time"
      ],
      "execution_count": 10,
      "outputs": []
    },
    {
      "cell_type": "markdown",
      "metadata": {
        "id": "YEP1_o8W9cFJ"
      },
      "source": [
        "- Masa rakiety i powierzchnia na która działaja opory powietrza"
      ]
    },
    {
      "cell_type": "code",
      "metadata": {
        "id": "Uo1HB2bZ96K_"
      },
      "source": [
        "mass = empty_rocket_mass + motor_mass + propellant_mass\n",
        "rocket_area = np.pi * (rocket_diameter / 2)**2"
      ],
      "execution_count": 11,
      "outputs": []
    },
    {
      "cell_type": "markdown",
      "metadata": {
        "id": "dVaxSypE-C1R"
      },
      "source": [
        "- Przyciąganie ziemskie"
      ]
    },
    {
      "cell_type": "code",
      "metadata": {
        "id": "5hG2F_OM-FGo"
      },
      "source": [
        "g = 9.8"
      ],
      "execution_count": 12,
      "outputs": []
    },
    {
      "cell_type": "markdown",
      "metadata": {
        "id": "uXBVgoJ_-Ksf"
      },
      "source": [
        "# Symulacja"
      ]
    },
    {
      "cell_type": "markdown",
      "metadata": {
        "id": "m7Bdmqpp-O1f"
      },
      "source": [
        "Główna pętla programu, w której dla każdego kroku w ustawionym czasie zostanie wyliczone przyspieszenie, prędkość i wysokość rakiety.\n",
        "\n",
        "Obliczenia są oparte na sumie sił działających na rakietę według trzech zasad dynamiki Newtona. Rozważam **siłę ciągu** (motor_thrust) odczytaną z parametrów silnika, **siłę ciężkości** (masa razy przyspieszenie grawitacyjne) i **siłę oporu powietrza** (drag_force).\n",
        "\n",
        "Do wyliczenia siły oporu aerodynamicznego używam wzoru z anglojęzycznej wikipedii, hasła [równanie ciągu](https://en.wikipedia.org/wiki/Drag_equation):\n",
        "\n",
        "![Screenshot 2021-06-20 134504.png](data:image/png;base64,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)\n"
      ]
    },
    {
      "cell_type": "code",
      "metadata": {
        "colab": {
          "base_uri": "https://localhost:8080/",
          "height": 265
        },
        "id": "AFADhhMz-0QI",
        "outputId": "d45956e4-7ae1-4938-cd4a-c39e1db3ebfc"
      },
      "source": [
        "flight_data = [[0, 0, 0]] #wysokosc, predkosc, przyspieszenie\n",
        "i = 0\n",
        "\n",
        "for t in np.arange(0, time, time_interval):\n",
        "    i += 1\n",
        "    v0 = flight_data[i - 1][1]\n",
        "    h0 = flight_data[i - 1][0]\n",
        "\n",
        "    rho = 1.22 * (0.9**(h0/1000)) \n",
        "    t = i * time_interval\n",
        "\n",
        "    if (t < burn_time):\n",
        "        mass -= mass_decrement * time_interval #rakieta zmniejsza masę podczas spalania paliwa\n",
        "\n",
        "    if (t >= burn_time + parachute_deployment_delay):\n",
        "        rocket_area = np.pi * (parachute_diameter / 2)**2 #po rozłożeniu spadochronu 'powierzchnia' rakiety zwieksza sie\n",
        "    \n",
        "    if (v0 != 0): drag_force = 0.5 * rho * drag_coefficent * rocket_area * v0**2 * (v0 / abs(v0))  #sila oporu powietrza\n",
        "    else: drag_force = 0\n",
        "\n",
        "    rocket_force = - drag_force - mass * g\n",
        "    if (t < burn_time): rocket_force += motor_thrust #w czasie dzialania silnika na rakiete dziala sila ciągu silnika\n",
        "\n",
        "    acceleration = rocket_force / mass #druga zasada dynamiki Newtona\n",
        "    velocity = v0 + acceleration * time_interval\n",
        "    altitude = h0 + velocity * time_interval\n",
        "\n",
        "    if (altitude <= 0): break #przerwanie symulacji gdy rakieta wyladuje\n",
        "    flight_data.append([altitude, velocity, acceleration])\n",
        "\n",
        "    #wizualizacja/wykres\n",
        "    plt.scatter(t, altitude, marker='o', color = 'hotpink')\n",
        "    # plt.pause(0.05)"
      ],
      "execution_count": 13,
      "outputs": [
        {
          "output_type": "display_data",
          "data": {
            "image/png": "[encoded data removed]",
            "text/plain": [
              "<Figure size 432x288 with 1 Axes>"
            ]
          },
          "metadata": {
            "tags": [],
            "needs_background": "light"
          }
        }
      ]
    },
    {
      "cell_type": "markdown",
      "metadata": {
        "id": "0Q8q57eDP641"
      },
      "source": [
        "Wyświetlenie wyników"
      ]
    },
    {
      "cell_type": "code",
      "metadata": {
        "colab": {
          "base_uri": "https://localhost:8080/"
        },
        "id": "1dGKIl1GP4jB",
        "outputId": "51d6a13b-2ec2-4790-b7e4-396fdd87f70c"
      },
      "source": [
        "#print(flight_data)\n",
        "print(t)"
      ],
      "execution_count": 14,
      "outputs": [
        {
          "output_type": "stream",
          "text": [
            "25.0\n"
          ],
          "name": "stdout"
        }
      ]
    }
  ]
}